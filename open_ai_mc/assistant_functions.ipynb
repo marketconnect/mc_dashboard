{
 "cells": [
  {
   "cell_type": "code",
   "execution_count": 1,
   "metadata": {},
   "outputs": [],
   "source": [
    "from tools.file_read_tool import FileReaderTool\n",
    "from crew.orchestrator import FlutterTaskOrchestrator\n",
    "import ipywidgets as widgets\n",
    "from IPython.display import display\n",
    "import nest_asyncio\n",
    "from pathlib import Path\n",
    "nest_asyncio.apply()"
   ]
  },
  {
   "cell_type": "code",
   "execution_count": 2,
   "metadata": {},
   "outputs": [],
   "source": [
    "ROOT_FOLDER = '/home/i-b8o/src/github.com/marketconnect/mc_dashboard/lib'\n",
    "file_reader = FileReaderTool(ROOT_FOLDER)\n"
   ]
  },
  {
   "cell_type": "code",
   "execution_count": 3,
   "metadata": {},
   "outputs": [],
   "source": [
    "def list_files(directory: str, extension: str = None):\n",
    "    \"\"\"\n",
    "    Recursively lists all files in a directory and its subdirectories.\n",
    "    directory: The directory to search.\n",
    "    \"\"\"\n",
    "    p = Path(directory)\n",
    "    if extension:\n",
    "        return sorted([(str(f.relative_to(directory)), str(f)) \n",
    "                       for f in p.rglob(f'*{extension}') if f.is_file()])\n",
    "    else:\n",
    "        return sorted([(str(f.relative_to(directory)), str(f)) \n",
    "                       for f in p.rglob('*') if f.is_file()])"
   ]
  },
  {
   "cell_type": "code",
   "execution_count": null,
   "metadata": {},
   "outputs": [],
   "source": [
    "task_type_widget = widgets.Dropdown(\n",
    "    options=['apiclient', 'service', 'viewmodel', 'screen', 'integration', 'entity', 'entity from JSON', 'question'],\n",
    "    value='apiclient',\n",
    "    description='Task type:',\n",
    ")\n",
    "\n",
    "task_description_widget = widgets.Textarea(\n",
    "    value='',\n",
    "    description='Description:',\n",
    "    placeholder='Введите описание задачи...',\n",
    "    layout=widgets.Layout(width='1000px', height='500px')\n",
    ")\n",
    "\n",
    "files = list_files(ROOT_FOLDER, extension=\".dart\")\n",
    "file_dropdown = widgets.Dropdown(\n",
    "    options=files,\n",
    "    description='Sample File:',\n",
    "    layout=widgets.Layout(width='800px')\n",
    ")\n",
    "\n",
    "new_file_name_widget = widgets.Text(\n",
    "    value='',\n",
    "    description='New File Name:',\n",
    "    placeholder='Введите имя нового файла (например, new_entity.dart)',\n",
    "    layout=widgets.Layout(width='600px')\n",
    ")\n",
    "\n",
    "entity_json_widget = widgets.Textarea(\n",
    "    value='',\n",
    "    description='Entity JSON:',\n",
    "    placeholder='Введите JSON представление класса...',\n",
    "    layout=widgets.Layout(width='800px', height='300px')\n",
    ")\n",
    "\n",
    "entity_json_widget.layout.display = 'none'\n",
    "\n",
    "def on_task_type_change(change):\n",
    "    if change.new == 'entity from JSON':\n",
    "        entity_json_widget.layout.display = 'block'\n",
    "    else:\n",
    "        entity_json_widget.layout.display = 'none'\n",
    "\n",
    "task_type_widget.observe(on_task_type_change, names='value')\n",
    "\n",
    "run_button = widgets.Button(\n",
    "    description='Run',\n",
    "    button_style='success'\n",
    ")\n",
    "\n",
    "output_area = widgets.Output()"
   ]
  },
  {
   "cell_type": "code",
   "execution_count": 5,
   "metadata": {},
   "outputs": [],
   "source": [
    "orchestrator = FlutterTaskOrchestrator(file_reader.read_file_content)"
   ]
  },
  {
   "cell_type": "code",
   "execution_count": 6,
   "metadata": {},
   "outputs": [],
   "source": [
    "import asyncio\n",
    "\n",
    "\n",
    "def on_run_button_clicked(b):\n",
    "    with output_area:\n",
    "        output_area.clear_output()\n",
    "        task_type = task_type_widget.value\n",
    "        task_description = task_description_widget.value\n",
    "        sample_file_path = file_dropdown.value\n",
    "        new_file_name = new_file_name_widget.value if task_type in [\"apiclient\", \"service\", \"viewmodel\", \"screen\", \"entity\", \"entity from JSON\"] else None\n",
    "        entity_json = entity_json_widget.value if task_type == 'entity from JSON' else None\n",
    "\n",
    "        print(\"Task type:\", task_type)\n",
    "        print(\"Task description:\", task_description)\n",
    "        print(\"Sample file path:\", sample_file_path)\n",
    "        if new_file_name:\n",
    "            print(\"New file name:\", new_file_name)\n",
    "        if entity_json:\n",
    "            print(\"Entity JSON:\", entity_json)\n",
    "        try:\n",
    "            result = asyncio.run(orchestrator.handle_task(task_type, task_description, sample_file_path, new_file_name, entity_json))\n",
    "            print(\"\\n=== Generated Code ===\")\n",
    "            print(result)\n",
    "        except Exception as e:\n",
    "            print(f\"Ошибка: {e}\")\n",
    "\n",
    "run_button.on_click(on_run_button_clicked)"
   ]
  },
  {
   "cell_type": "code",
   "execution_count": 7,
   "metadata": {},
   "outputs": [
    {
     "data": {
      "application/vnd.jupyter.widget-view+json": {
       "model_id": "dc0539ac9b324bb39c262f5f98e773d5",
       "version_major": 2,
       "version_minor": 0
      },
      "text/plain": [
       "Dropdown(description='Task type:', options=('apiclient', 'service', 'viewmodel', 'screen', 'integration', 'ent…"
      ]
     },
     "metadata": {},
     "output_type": "display_data"
    },
    {
     "data": {
      "application/vnd.jupyter.widget-view+json": {
       "model_id": "ab1179f2e06343e18ecf00419f6fa5e1",
       "version_major": 2,
       "version_minor": 0
      },
      "text/plain": [
       "Textarea(value='', description='Description:', layout=Layout(height='500px', width='1000px'), placeholder='Вве…"
      ]
     },
     "metadata": {},
     "output_type": "display_data"
    },
    {
     "data": {
      "application/vnd.jupyter.widget-view+json": {
       "model_id": "9f12cfbe48834c03907c59dad25a3a3f",
       "version_major": 2,
       "version_minor": 0
      },
      "text/plain": [
       "Dropdown(description='Sample File:', layout=Layout(width='800px'), options=(('.env.dart', '/home/i-b8o/src/git…"
      ]
     },
     "metadata": {},
     "output_type": "display_data"
    },
    {
     "data": {
      "application/vnd.jupyter.widget-view+json": {
       "model_id": "cc199145d7cc4d7599c361609d6d1e5a",
       "version_major": 2,
       "version_minor": 0
      },
      "text/plain": [
       "Text(value='', description='New File Name:', layout=Layout(width='600px'), placeholder='Введите имя нового фай…"
      ]
     },
     "metadata": {},
     "output_type": "display_data"
    },
    {
     "data": {
      "application/vnd.jupyter.widget-view+json": {
       "model_id": "9caffa9372ae4ab8a90aef2408504352",
       "version_major": 2,
       "version_minor": 0
      },
      "text/plain": [
       "Textarea(value='', description='Entity JSON:', layout=Layout(display='none', height='300px', width='800px'), p…"
      ]
     },
     "metadata": {},
     "output_type": "display_data"
    },
    {
     "data": {
      "application/vnd.jupyter.widget-view+json": {
       "model_id": "f8e61471f531460e9b801075b786a2e5",
       "version_major": 2,
       "version_minor": 0
      },
      "text/plain": [
       "Button(button_style='success', description='Run', style=ButtonStyle())"
      ]
     },
     "metadata": {},
     "output_type": "display_data"
    },
    {
     "data": {
      "application/vnd.jupyter.widget-view+json": {
       "model_id": "b1af2373c5d74194968c5327b562fca4",
       "version_major": 2,
       "version_minor": 0
      },
      "text/plain": [
       "Output()"
      ]
     },
     "metadata": {},
     "output_type": "display_data"
    }
   ],
   "source": [
    "display(task_type_widget, task_description_widget, file_dropdown, new_file_name_widget, entity_json_widget, run_button, output_area)"
   ]
  },
  {
   "cell_type": "code",
   "execution_count": null,
   "metadata": {},
   "outputs": [],
   "source": []
  },
  {
   "cell_type": "code",
   "execution_count": null,
   "metadata": {},
   "outputs": [],
   "source": []
  }
 ],
 "metadata": {
  "kernelspec": {
   "display_name": "Python 3",
   "language": "python",
   "name": "python3"
  },
  "language_info": {
   "codemirror_mode": {
    "name": "ipython",
    "version": 3
   },
   "file_extension": ".py",
   "mimetype": "text/x-python",
   "name": "python",
   "nbconvert_exporter": "python",
   "pygments_lexer": "ipython3",
   "version": "3.12.3"
  }
 },
 "nbformat": 4,
 "nbformat_minor": 2
}
